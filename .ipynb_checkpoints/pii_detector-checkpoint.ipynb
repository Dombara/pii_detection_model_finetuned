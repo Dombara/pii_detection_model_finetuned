{
 "cells": [
  {
   "cell_type": "code",
   "execution_count": 1,
   "id": "499fa723-c318-4711-a044-6a8fd2d5b0f2",
   "metadata": {},
   "outputs": [],
   "source": [
    "import pandas as pd\n",
    "from datasets import Dataset"
   ]
  },
  {
   "cell_type": "code",
   "execution_count": 2,
   "id": "c92401ca-fe37-4b5f-8443-f097632ea5a1",
   "metadata": {},
   "outputs": [],
   "source": [
    "data = pd.read_csv(\"indian_pii_dataset_corrected_labeled.tsv\", sep=\"\\t\")"
   ]
  },
  {
   "cell_type": "code",
   "execution_count": 3,
   "id": "fc7abf90-db35-4197-b0b3-221e06420c19",
   "metadata": {},
   "outputs": [],
   "source": [
    "\n",
    "\n",
    "# Group by Sentence-ID to create sentences and labels\n",
    "sentences = []\n",
    "labels = []\n",
    "current_sentence = []\n",
    "current_labels = []\n",
    "current_id = \"sentence-0\"\n",
    "\n",
    "for _, row in data.iterrows():\n",
    "    sentence_id = row[\"Sentence-ID\"]\n",
    "    word = row[\"Word\"]\n",
    "    label = row[\"Label\"]\n",
    "\n",
    "    if sentence_id != current_id:\n",
    "        # Save the previous sentence\n",
    "        sentences.append(current_sentence)\n",
    "        labels.append(current_labels)\n",
    "        current_sentence = []\n",
    "        current_labels = []\n",
    "        current_id = sentence_id\n",
    "\n",
    "    current_sentence.append(word)\n",
    "    current_labels.append(label)\n",
    "\n",
    "# Append the last sentence\n",
    "sentences.append(current_sentence)\n",
    "labels.append(current_labels)\n",
    "\n",
    "# Create a Hugging Face Dataset\n",
    "dataset_dict = {\n",
    "    \"tokens\": sentences,\n",
    "    \"ner_tags\": labels\n",
    "}\n",
    "dataset = Dataset.from_dict(dataset_dict)"
   ]
  },
  {
   "cell_type": "code",
   "execution_count": null,
   "id": "c9bef951-60b6-4e10-bb92-4fd16e8054a7",
   "metadata": {},
   "outputs": [],
   "source": []
  }
 ],
 "metadata": {
  "kernelspec": {
   "display_name": "Python 3 (ipykernel)",
   "language": "python",
   "name": "python3"
  },
  "language_info": {
   "codemirror_mode": {
    "name": "ipython",
    "version": 3
   },
   "file_extension": ".py",
   "mimetype": "text/x-python",
   "name": "python",
   "nbconvert_exporter": "python",
   "pygments_lexer": "ipython3",
   "version": "3.12.10"
  }
 },
 "nbformat": 4,
 "nbformat_minor": 5
}
